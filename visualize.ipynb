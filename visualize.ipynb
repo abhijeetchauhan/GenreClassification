{
 "cells": [
  {
   "cell_type": "markdown",
   "metadata": {},
   "source": [
    "# To visualize data"
   ]
  },
  {
   "cell_type": "code",
   "execution_count": 1,
   "metadata": {
    "collapsed": true
   },
   "outputs": [],
   "source": [
    "# To avoid warnings printed during the execution\n",
    "import warnings\n",
    "warnings.simplefilter('ignore')"
   ]
  },
  {
   "cell_type": "code",
   "execution_count": 2,
   "metadata": {
    "collapsed": true
   },
   "outputs": [],
   "source": [
    "import warnings\n",
    "warnings.filterwarnings(\"ignore\", category = UserWarning, module = \"matplotlib\")\n",
    "#\n",
    "# Display inline matplotlib plots with IPython\n",
    "from IPython import get_ipython\n",
    "get_ipython().run_line_magic('matplotlib', 'inline')"
   ]
  },
  {
   "cell_type": "code",
   "execution_count": 3,
   "metadata": {},
   "outputs": [
    {
     "name": "stderr",
     "output_type": "stream",
     "text": [
      "/usr/local/lib/python3.5/dist-packages/sklearn/cross_validation.py:44: DeprecationWarning: This module was deprecated in version 0.18 in favor of the model_selection module into which all the refactored classes and functions are moved. Also note that the interface of the new CV iterators are different from that of this module. This module will be removed in 0.20.\n",
      "  \"This module will be removed in 0.20.\", DeprecationWarning)\n",
      "/usr/local/lib/python3.5/dist-packages/sklearn/learning_curve.py:23: DeprecationWarning: This module was deprecated in version 0.18 in favor of the model_selection module into which all the functions are moved. This module will be removed in 0.20\n",
      "  DeprecationWarning)\n"
     ]
    }
   ],
   "source": [
    "import matplotlib.pyplot as pl\n",
    "import numpy as np\n",
    "import sklearn.learning_curve as curves\n",
    "from sklearn.tree import DecisionTreeRegressor\n",
    "from sklearn.cross_validation import ShuffleSplit, train_test_split\n",
    "import pandas as pd\n",
    "import numpy as np\n",
    "from sklearn.decomposition import PCA\n",
    "from sklearn.cross_validation import train_test_split\n",
    "from sklearn.tree import DecisionTreeClassifier\n",
    "from sklearn.metrics import accuracy_score\n",
    "import random\n",
    "from sklearn.ensemble import AdaBoostClassifier\n",
    "from matplotlib.legend_handler import HandlerLine2D"
   ]
  },
  {
   "cell_type": "code",
   "execution_count": 4,
   "metadata": {
    "collapsed": true
   },
   "outputs": [],
   "source": [
    "bigdata = pd.read_csv('bigdata(tf-idf).csv')"
   ]
  },
  {
   "cell_type": "code",
   "execution_count": 5,
   "metadata": {
    "collapsed": true
   },
   "outputs": [],
   "source": [
    "bigdata = bigdata.drop(bigdata.loc[bigdata['genre'] == 2].index)\n",
    "bigdata = bigdata.drop(bigdata.loc[bigdata['genre'] == 4].index)\n",
    "bigdata = bigdata.drop(bigdata.loc[bigdata['genre'] == 8].index)\n",
    "bigdata = bigdata.drop(bigdata.loc[bigdata['genre'] == 9].index)"
   ]
  },
  {
   "cell_type": "code",
   "execution_count": 6,
   "metadata": {},
   "outputs": [
    {
     "data": {
      "text/html": [
       "<div>\n",
       "<style>\n",
       "    .dataframe thead tr:only-child th {\n",
       "        text-align: right;\n",
       "    }\n",
       "\n",
       "    .dataframe thead th {\n",
       "        text-align: left;\n",
       "    }\n",
       "\n",
       "    .dataframe tbody tr th {\n",
       "        vertical-align: top;\n",
       "    }\n",
       "</style>\n",
       "<table border=\"1\" class=\"dataframe\">\n",
       "  <thead>\n",
       "    <tr style=\"text-align: right;\">\n",
       "      <th></th>\n",
       "      <th>level_0</th>\n",
       "      <th>Unnamed: 0</th>\n",
       "      <th>index</th>\n",
       "      <th>genre</th>\n",
       "      <th>bookId</th>\n",
       "      <th>entity.n.01</th>\n",
       "      <th>cheerfulness.n.01</th>\n",
       "      <th>eidos.n.01</th>\n",
       "      <th>ethos.n.01</th>\n",
       "      <th>inheritance.n.04</th>\n",
       "      <th>...</th>\n",
       "      <th>deodorant.n.01</th>\n",
       "      <th>hairdressing.n.01</th>\n",
       "      <th>lotion.n.01</th>\n",
       "      <th>perfume.n.02</th>\n",
       "      <th>weaponry.n.01</th>\n",
       "      <th>ammunition.n.01</th>\n",
       "      <th>armament.n.01</th>\n",
       "      <th>gunnery.n.01</th>\n",
       "      <th>hardware.n.01</th>\n",
       "      <th>totalWords</th>\n",
       "    </tr>\n",
       "  </thead>\n",
       "  <tbody>\n",
       "    <tr>\n",
       "      <th>0</th>\n",
       "      <td>0</td>\n",
       "      <td>0</td>\n",
       "      <td>0</td>\n",
       "      <td>1</td>\n",
       "      <td>14976</td>\n",
       "      <td>0.0</td>\n",
       "      <td>0.000000</td>\n",
       "      <td>0.0</td>\n",
       "      <td>0.0</td>\n",
       "      <td>0.000000</td>\n",
       "      <td>...</td>\n",
       "      <td>0.0</td>\n",
       "      <td>0.0</td>\n",
       "      <td>0.0</td>\n",
       "      <td>0.0</td>\n",
       "      <td>0.0</td>\n",
       "      <td>1.488439</td>\n",
       "      <td>0.0</td>\n",
       "      <td>0.0</td>\n",
       "      <td>0.0</td>\n",
       "      <td>24106</td>\n",
       "    </tr>\n",
       "    <tr>\n",
       "      <th>1</th>\n",
       "      <td>1</td>\n",
       "      <td>1</td>\n",
       "      <td>1</td>\n",
       "      <td>1</td>\n",
       "      <td>2750</td>\n",
       "      <td>0.0</td>\n",
       "      <td>0.000000</td>\n",
       "      <td>0.0</td>\n",
       "      <td>0.0</td>\n",
       "      <td>0.171278</td>\n",
       "      <td>...</td>\n",
       "      <td>0.0</td>\n",
       "      <td>0.0</td>\n",
       "      <td>0.0</td>\n",
       "      <td>0.0</td>\n",
       "      <td>0.0</td>\n",
       "      <td>0.000000</td>\n",
       "      <td>0.0</td>\n",
       "      <td>0.0</td>\n",
       "      <td>0.0</td>\n",
       "      <td>44801</td>\n",
       "    </tr>\n",
       "    <tr>\n",
       "      <th>2</th>\n",
       "      <td>2</td>\n",
       "      <td>2</td>\n",
       "      <td>2</td>\n",
       "      <td>1</td>\n",
       "      <td>2754</td>\n",
       "      <td>0.0</td>\n",
       "      <td>0.000000</td>\n",
       "      <td>0.0</td>\n",
       "      <td>0.0</td>\n",
       "      <td>0.188879</td>\n",
       "      <td>...</td>\n",
       "      <td>0.0</td>\n",
       "      <td>0.0</td>\n",
       "      <td>0.0</td>\n",
       "      <td>0.0</td>\n",
       "      <td>0.0</td>\n",
       "      <td>0.000000</td>\n",
       "      <td>0.0</td>\n",
       "      <td>0.0</td>\n",
       "      <td>0.0</td>\n",
       "      <td>20313</td>\n",
       "    </tr>\n",
       "    <tr>\n",
       "      <th>3</th>\n",
       "      <td>3</td>\n",
       "      <td>3</td>\n",
       "      <td>3</td>\n",
       "      <td>1</td>\n",
       "      <td>2747</td>\n",
       "      <td>0.0</td>\n",
       "      <td>0.606649</td>\n",
       "      <td>0.0</td>\n",
       "      <td>0.0</td>\n",
       "      <td>0.000000</td>\n",
       "      <td>...</td>\n",
       "      <td>0.0</td>\n",
       "      <td>0.0</td>\n",
       "      <td>0.0</td>\n",
       "      <td>0.0</td>\n",
       "      <td>0.0</td>\n",
       "      <td>0.392177</td>\n",
       "      <td>0.0</td>\n",
       "      <td>0.0</td>\n",
       "      <td>0.0</td>\n",
       "      <td>18298</td>\n",
       "    </tr>\n",
       "    <tr>\n",
       "      <th>4</th>\n",
       "      <td>4</td>\n",
       "      <td>4</td>\n",
       "      <td>4</td>\n",
       "      <td>1</td>\n",
       "      <td>2749</td>\n",
       "      <td>0.0</td>\n",
       "      <td>0.000000</td>\n",
       "      <td>0.0</td>\n",
       "      <td>0.0</td>\n",
       "      <td>0.000000</td>\n",
       "      <td>...</td>\n",
       "      <td>0.0</td>\n",
       "      <td>0.0</td>\n",
       "      <td>0.0</td>\n",
       "      <td>0.0</td>\n",
       "      <td>0.0</td>\n",
       "      <td>0.000000</td>\n",
       "      <td>0.0</td>\n",
       "      <td>0.0</td>\n",
       "      <td>0.0</td>\n",
       "      <td>29215</td>\n",
       "    </tr>\n",
       "  </tbody>\n",
       "</table>\n",
       "<p>5 rows × 780 columns</p>\n",
       "</div>"
      ],
      "text/plain": [
       "   level_0  Unnamed: 0  index  genre  bookId  entity.n.01  cheerfulness.n.01  \\\n",
       "0        0           0      0      1   14976          0.0           0.000000   \n",
       "1        1           1      1      1    2750          0.0           0.000000   \n",
       "2        2           2      2      1    2754          0.0           0.000000   \n",
       "3        3           3      3      1    2747          0.0           0.606649   \n",
       "4        4           4      4      1    2749          0.0           0.000000   \n",
       "\n",
       "   eidos.n.01  ethos.n.01  inheritance.n.04     ...      deodorant.n.01  \\\n",
       "0         0.0         0.0          0.000000     ...                 0.0   \n",
       "1         0.0         0.0          0.171278     ...                 0.0   \n",
       "2         0.0         0.0          0.188879     ...                 0.0   \n",
       "3         0.0         0.0          0.000000     ...                 0.0   \n",
       "4         0.0         0.0          0.000000     ...                 0.0   \n",
       "\n",
       "   hairdressing.n.01  lotion.n.01  perfume.n.02  weaponry.n.01  \\\n",
       "0                0.0          0.0           0.0            0.0   \n",
       "1                0.0          0.0           0.0            0.0   \n",
       "2                0.0          0.0           0.0            0.0   \n",
       "3                0.0          0.0           0.0            0.0   \n",
       "4                0.0          0.0           0.0            0.0   \n",
       "\n",
       "   ammunition.n.01  armament.n.01  gunnery.n.01  hardware.n.01  totalWords  \n",
       "0         1.488439            0.0           0.0            0.0       24106  \n",
       "1         0.000000            0.0           0.0            0.0       44801  \n",
       "2         0.000000            0.0           0.0            0.0       20313  \n",
       "3         0.392177            0.0           0.0            0.0       18298  \n",
       "4         0.000000            0.0           0.0            0.0       29215  \n",
       "\n",
       "[5 rows x 780 columns]"
      ]
     },
     "execution_count": 6,
     "metadata": {},
     "output_type": "execute_result"
    }
   ],
   "source": [
    "bigdata.reset_index().head()"
   ]
  },
  {
   "cell_type": "code",
   "execution_count": 7,
   "metadata": {
    "collapsed": true
   },
   "outputs": [],
   "source": [
    "genre = bigdata['genre']"
   ]
  },
  {
   "cell_type": "code",
   "execution_count": 8,
   "metadata": {
    "collapsed": true
   },
   "outputs": [],
   "source": [
    "del bigdata['genre']\n",
    "del bigdata['Unnamed: 0']\n",
    "del bigdata['index']\n",
    "del bigdata['bookId']\n",
    "del bigdata['totalWords']"
   ]
  },
  {
   "cell_type": "code",
   "execution_count": 9,
   "metadata": {
    "collapsed": true
   },
   "outputs": [],
   "source": [
    "Words = bigdata.values"
   ]
  },
  {
   "cell_type": "code",
   "execution_count": 10,
   "metadata": {
    "collapsed": true
   },
   "outputs": [],
   "source": [
    "pca = PCA(n_components=200)\n",
    "ModelPca = pca.fit(Words)"
   ]
  },
  {
   "cell_type": "code",
   "execution_count": 11,
   "metadata": {
    "collapsed": true
   },
   "outputs": [],
   "source": [
    "df=pd.DataFrame()\n",
    "for i in range(pca.explained_variance_ratio_.shape[0]):\n",
    "    df[\"pc%i\" % (i+1)] = Words[:,i]"
   ]
  },
  {
   "cell_type": "code",
   "execution_count": 57,
   "metadata": {
    "collapsed": true
   },
   "outputs": [],
   "source": [
    "X_train, X_test, y_train, y_test = train_test_split(df, genre, test_size=0.20, random_state=42)"
   ]
  },
  {
   "cell_type": "code",
   "execution_count": 58,
   "metadata": {
    "collapsed": true
   },
   "outputs": [],
   "source": [
    "rf =AdaBoostClassifier(DecisionTreeClassifier(max_depth=3), algorithm=\"SAMME\", n_estimators=2000)"
   ]
  },
  {
   "cell_type": "code",
   "execution_count": 59,
   "metadata": {},
   "outputs": [
    {
     "data": {
      "text/plain": [
       "AdaBoostClassifier(algorithm='SAMME',\n",
       "          base_estimator=DecisionTreeClassifier(class_weight=None, criterion='gini', max_depth=3,\n",
       "            max_features=None, max_leaf_nodes=None,\n",
       "            min_impurity_split=1e-07, min_samples_leaf=1,\n",
       "            min_samples_split=2, min_weight_fraction_leaf=0.0,\n",
       "            presort=False, random_state=None, splitter='best'),\n",
       "          learning_rate=1.0, n_estimators=2000, random_state=None)"
      ]
     },
     "execution_count": 59,
     "metadata": {},
     "output_type": "execute_result"
    }
   ],
   "source": [
    "rf.fit(X_train, y_train)"
   ]
  },
  {
   "cell_type": "code",
   "execution_count": 60,
   "metadata": {},
   "outputs": [
    {
     "data": {
      "text/plain": [
       "0.92883211678832112"
      ]
     },
     "execution_count": 60,
     "metadata": {},
     "output_type": "execute_result"
    }
   ],
   "source": [
    "pre=rf.predict(X_test)\n",
    "#print(pre)\n",
    "accuracy_score(y_test, pre)"
   ]
  },
  {
   "cell_type": "code",
   "execution_count": 61,
   "metadata": {},
   "outputs": [
    {
     "data": {
      "text/plain": [
       "0.99406392694063928"
      ]
     },
     "execution_count": 61,
     "metadata": {},
     "output_type": "execute_result"
    }
   ],
   "source": [
    "pre=rf.predict(X_train)\n",
    "accuracy_score(y_train, pre)"
   ]
  },
  {
   "cell_type": "code",
   "execution_count": 62,
   "metadata": {},
   "outputs": [],
   "source": [
    "X = df\n",
    "y = genre\n",
    "\n",
    "k = 3\n",
    "depth = 3\n",
    "n_e = 2000\n",
    "\n",
    "# Create 10 cross-validation sets for training and testing\n",
    "cv = ShuffleSplit(X.shape[0], n_iter = 10, test_size = 0.2, random_state = 0)\n",
    "\n",
    "# Generate the training set sizes increasing by 50\n",
    "train_sizes = np.rint(np.linspace(1, X.shape[0]*0.8 - 1, 9)).astype(int)\n",
    "\n",
    "# Create a Decision tree regressor at max_depth = depth\n",
    "regressor = AdaBoostClassifier(DecisionTreeClassifier(max_depth=depth), algorithm=\"SAMME\", n_estimators= n_e)\n",
    "#regressor = DecisionTreeRegressor(max_depth = depth)\n",
    "\n",
    "# Calculate the training and testing scores\n",
    "sizes, train_scores, test_scores = curves.learning_curve(regressor, X, y, \\\n",
    "    cv = cv, train_sizes = train_sizes)\n",
    "\n",
    "# Find the mean and standard deviation for smoothing\n",
    "train_std = np.std(train_scores, axis = 1)\n",
    "train_mean = np.mean(train_scores, axis = 1)\n",
    "test_std = np.std(test_scores, axis = 1)\n",
    "test_mean = np.mean(test_scores, axis = 1)"
   ]
  },
  {
   "cell_type": "code",
   "execution_count": 63,
   "metadata": {},
   "outputs": [
    {
     "data": {
      "image/png": "[encoded data removed]",
      "text/plain": [
       "<matplotlib.figure.Figure at 0x7f48c5e280b8>"
      ]
     },
     "metadata": {},
     "output_type": "display_data"
    }
   ],
   "source": [
    "# Create the figure window\n",
    "fig = pl.figure(figsize=(10, 7))\n",
    "\n",
    "# Subplot the learning curve \n",
    "ax = fig.add_subplot(2, 2, k+1)\n",
    "ax.plot(sizes, train_mean, 'o-', color = 'r', label = 'Training Score')\n",
    "ax.plot(sizes, test_mean, 'o-', color = 'g', label = 'Testing Score')\n",
    "ax.fill_between(sizes, train_mean - train_std, train_mean + train_std, alpha = 0.15, color = 'r')\n",
    "ax.fill_between(sizes, test_mean - test_std, test_mean + test_std, alpha = 0.15, color = 'g')\n",
    "\n",
    "# Labels\n",
    "ax.set_title('max_depth = %s , n-estimators = %s'%(depth,n_e))\n",
    "ax.set_xlabel('Number of Training Points')\n",
    "ax.set_ylabel('Score')\n",
    "ax.set_xlim([0, X.shape[0]*0.8])\n",
    "ax.set_ylim([-0.05, 1.05])\n",
    "\n",
    "# Visual aesthetics\n",
    "ax.legend(bbox_to_anchor=(0.65, 0.25), borderaxespad = 0.1)\n",
    "fig.tight_layout()\n",
    "fig.show()\n",
    "#fig.savefig('3_20.png')"
   ]
  },
  {
   "cell_type": "code",
   "execution_count": null,
   "metadata": {
    "collapsed": true
   },
   "outputs": [],
   "source": []
  }
 ],
 "metadata": {
  "kernelspec": {
   "display_name": "Python 3",
   "language": "python",
   "name": "python3"
  },
  "language_info": {
   "codemirror_mode": {
    "name": "ipython",
    "version": 3
   },
   "file_extension": ".py",
   "mimetype": "text/x-python",
   "name": "python",
   "nbconvert_exporter": "python",
   "pygments_lexer": "ipython3",
   "version": "3.5.2"
  }
 },
 "nbformat": 4,
 "nbformat_minor": 2
}
