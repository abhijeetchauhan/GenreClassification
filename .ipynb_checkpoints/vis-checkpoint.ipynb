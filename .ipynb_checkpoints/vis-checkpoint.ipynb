{
 "cells": [
  {
   "cell_type": "code",
   "execution_count": 1,
   "metadata": {
    "collapsed": true,
    "scrolled": true
   },
   "outputs": [],
   "source": [
    "# To avoid warnings printed during the execution\n",
    "import warnings\n",
    "warnings.simplefilter('ignore')"
   ]
  },
  {
   "cell_type": "code",
   "execution_count": 2,
   "metadata": {
    "collapsed": true
   },
   "outputs": [],
   "source": [
    "%matplotlib inline\n",
    "\n",
    "import matplotlib\n",
    "import numpy as np\n",
    "import matplotlib.pyplot as plt"
   ]
  },
  {
   "cell_type": "code",
   "execution_count": 3,
   "metadata": {},
   "outputs": [
    {
     "name": "stderr",
     "output_type": "stream",
     "text": [
      "/usr/local/lib/python3.5/dist-packages/sklearn/cross_validation.py:44: DeprecationWarning: This module was deprecated in version 0.18 in favor of the model_selection module into which all the refactored classes and functions are moved. Also note that the interface of the new CV iterators are different from that of this module. This module will be removed in 0.20.\n",
      "  \"This module will be removed in 0.20.\", DeprecationWarning)\n"
     ]
    }
   ],
   "source": [
    "import pandas as pd\n",
    "import numpy as np\n",
    "from sklearn.decomposition import PCA\n",
    "from sklearn.cross_validation import train_test_split\n",
    "from sklearn.tree import DecisionTreeClassifier\n",
    "from sklearn.metrics import accuracy_score\n",
    "import random\n",
    "from sklearn.ensemble import AdaBoostClassifier"
   ]
  },
  {
   "cell_type": "code",
   "execution_count": 4,
   "metadata": {
    "collapsed": true
   },
   "outputs": [],
   "source": [
    "bigdata = pd.read_csv('bigdata(tf-idf).csv')"
   ]
  },
  {
   "cell_type": "code",
   "execution_count": 5,
   "metadata": {},
   "outputs": [
    {
     "data": {
      "text/plain": [
       "(5040, 779)"
      ]
     },
     "execution_count": 5,
     "metadata": {},
     "output_type": "execute_result"
    }
   ],
   "source": [
    "bigdata.shape"
   ]
  },
  {
   "cell_type": "code",
   "execution_count": 6,
   "metadata": {},
   "outputs": [
    {
     "data": {
      "text/html": [
       "<div>\n",
       "<style>\n",
       "    .dataframe thead tr:only-child th {\n",
       "        text-align: right;\n",
       "    }\n",
       "\n",
       "    .dataframe thead th {\n",
       "        text-align: left;\n",
       "    }\n",
       "\n",
       "    .dataframe tbody tr th {\n",
       "        vertical-align: top;\n",
       "    }\n",
       "</style>\n",
       "<table border=\"1\" class=\"dataframe\">\n",
       "  <thead>\n",
       "    <tr style=\"text-align: right;\">\n",
       "      <th></th>\n",
       "      <th>Unnamed: 0</th>\n",
       "      <th>index</th>\n",
       "      <th>genre</th>\n",
       "      <th>bookId</th>\n",
       "      <th>entity.n.01</th>\n",
       "      <th>cheerfulness.n.01</th>\n",
       "      <th>eidos.n.01</th>\n",
       "      <th>ethos.n.01</th>\n",
       "      <th>inheritance.n.04</th>\n",
       "      <th>personality.n.01</th>\n",
       "      <th>...</th>\n",
       "      <th>deodorant.n.01</th>\n",
       "      <th>hairdressing.n.01</th>\n",
       "      <th>lotion.n.01</th>\n",
       "      <th>perfume.n.02</th>\n",
       "      <th>weaponry.n.01</th>\n",
       "      <th>ammunition.n.01</th>\n",
       "      <th>armament.n.01</th>\n",
       "      <th>gunnery.n.01</th>\n",
       "      <th>hardware.n.01</th>\n",
       "      <th>totalWords</th>\n",
       "    </tr>\n",
       "  </thead>\n",
       "  <tbody>\n",
       "    <tr>\n",
       "      <th>0</th>\n",
       "      <td>0</td>\n",
       "      <td>0</td>\n",
       "      <td>1</td>\n",
       "      <td>14976</td>\n",
       "      <td>0.0</td>\n",
       "      <td>0.000000</td>\n",
       "      <td>0.0</td>\n",
       "      <td>0.0</td>\n",
       "      <td>0.000000</td>\n",
       "      <td>0.539379</td>\n",
       "      <td>...</td>\n",
       "      <td>0.0</td>\n",
       "      <td>0.0</td>\n",
       "      <td>0.0</td>\n",
       "      <td>0.0</td>\n",
       "      <td>0.0</td>\n",
       "      <td>1.488439</td>\n",
       "      <td>0.0</td>\n",
       "      <td>0.0</td>\n",
       "      <td>0.0</td>\n",
       "      <td>24106</td>\n",
       "    </tr>\n",
       "    <tr>\n",
       "      <th>1</th>\n",
       "      <td>1</td>\n",
       "      <td>1</td>\n",
       "      <td>1</td>\n",
       "      <td>2750</td>\n",
       "      <td>0.0</td>\n",
       "      <td>0.000000</td>\n",
       "      <td>0.0</td>\n",
       "      <td>0.0</td>\n",
       "      <td>0.171278</td>\n",
       "      <td>0.096741</td>\n",
       "      <td>...</td>\n",
       "      <td>0.0</td>\n",
       "      <td>0.0</td>\n",
       "      <td>0.0</td>\n",
       "      <td>0.0</td>\n",
       "      <td>0.0</td>\n",
       "      <td>0.000000</td>\n",
       "      <td>0.0</td>\n",
       "      <td>0.0</td>\n",
       "      <td>0.0</td>\n",
       "      <td>44801</td>\n",
       "    </tr>\n",
       "    <tr>\n",
       "      <th>2</th>\n",
       "      <td>2</td>\n",
       "      <td>2</td>\n",
       "      <td>1</td>\n",
       "      <td>2754</td>\n",
       "      <td>0.0</td>\n",
       "      <td>0.000000</td>\n",
       "      <td>0.0</td>\n",
       "      <td>0.0</td>\n",
       "      <td>0.188879</td>\n",
       "      <td>0.000000</td>\n",
       "      <td>...</td>\n",
       "      <td>0.0</td>\n",
       "      <td>0.0</td>\n",
       "      <td>0.0</td>\n",
       "      <td>0.0</td>\n",
       "      <td>0.0</td>\n",
       "      <td>0.000000</td>\n",
       "      <td>0.0</td>\n",
       "      <td>0.0</td>\n",
       "      <td>0.0</td>\n",
       "      <td>20313</td>\n",
       "    </tr>\n",
       "    <tr>\n",
       "      <th>3</th>\n",
       "      <td>3</td>\n",
       "      <td>3</td>\n",
       "      <td>1</td>\n",
       "      <td>2747</td>\n",
       "      <td>0.0</td>\n",
       "      <td>0.606649</td>\n",
       "      <td>0.0</td>\n",
       "      <td>0.0</td>\n",
       "      <td>0.000000</td>\n",
       "      <td>0.000000</td>\n",
       "      <td>...</td>\n",
       "      <td>0.0</td>\n",
       "      <td>0.0</td>\n",
       "      <td>0.0</td>\n",
       "      <td>0.0</td>\n",
       "      <td>0.0</td>\n",
       "      <td>0.392177</td>\n",
       "      <td>0.0</td>\n",
       "      <td>0.0</td>\n",
       "      <td>0.0</td>\n",
       "      <td>18298</td>\n",
       "    </tr>\n",
       "    <tr>\n",
       "      <th>4</th>\n",
       "      <td>4</td>\n",
       "      <td>4</td>\n",
       "      <td>1</td>\n",
       "      <td>2749</td>\n",
       "      <td>0.0</td>\n",
       "      <td>0.000000</td>\n",
       "      <td>0.0</td>\n",
       "      <td>0.0</td>\n",
       "      <td>0.000000</td>\n",
       "      <td>0.148352</td>\n",
       "      <td>...</td>\n",
       "      <td>0.0</td>\n",
       "      <td>0.0</td>\n",
       "      <td>0.0</td>\n",
       "      <td>0.0</td>\n",
       "      <td>0.0</td>\n",
       "      <td>0.000000</td>\n",
       "      <td>0.0</td>\n",
       "      <td>0.0</td>\n",
       "      <td>0.0</td>\n",
       "      <td>29215</td>\n",
       "    </tr>\n",
       "  </tbody>\n",
       "</table>\n",
       "<p>5 rows × 779 columns</p>\n",
       "</div>"
      ],
      "text/plain": [
       "   Unnamed: 0  index  genre  bookId  entity.n.01  cheerfulness.n.01  \\\n",
       "0           0      0      1   14976          0.0           0.000000   \n",
       "1           1      1      1    2750          0.0           0.000000   \n",
       "2           2      2      1    2754          0.0           0.000000   \n",
       "3           3      3      1    2747          0.0           0.606649   \n",
       "4           4      4      1    2749          0.0           0.000000   \n",
       "\n",
       "   eidos.n.01  ethos.n.01  inheritance.n.04  personality.n.01     ...      \\\n",
       "0         0.0         0.0          0.000000          0.539379     ...       \n",
       "1         0.0         0.0          0.171278          0.096741     ...       \n",
       "2         0.0         0.0          0.188879          0.000000     ...       \n",
       "3         0.0         0.0          0.000000          0.000000     ...       \n",
       "4         0.0         0.0          0.000000          0.148352     ...       \n",
       "\n",
       "   deodorant.n.01  hairdressing.n.01  lotion.n.01  perfume.n.02  \\\n",
       "0             0.0                0.0          0.0           0.0   \n",
       "1             0.0                0.0          0.0           0.0   \n",
       "2             0.0                0.0          0.0           0.0   \n",
       "3             0.0                0.0          0.0           0.0   \n",
       "4             0.0                0.0          0.0           0.0   \n",
       "\n",
       "   weaponry.n.01  ammunition.n.01  armament.n.01  gunnery.n.01  hardware.n.01  \\\n",
       "0            0.0         1.488439            0.0           0.0            0.0   \n",
       "1            0.0         0.000000            0.0           0.0            0.0   \n",
       "2            0.0         0.000000            0.0           0.0            0.0   \n",
       "3            0.0         0.392177            0.0           0.0            0.0   \n",
       "4            0.0         0.000000            0.0           0.0            0.0   \n",
       "\n",
       "   totalWords  \n",
       "0       24106  \n",
       "1       44801  \n",
       "2       20313  \n",
       "3       18298  \n",
       "4       29215  \n",
       "\n",
       "[5 rows x 779 columns]"
      ]
     },
     "execution_count": 6,
     "metadata": {},
     "output_type": "execute_result"
    }
   ],
   "source": [
    "bigdata.head()"
   ]
  },
  {
   "cell_type": "code",
   "execution_count": 7,
   "metadata": {
    "collapsed": true
   },
   "outputs": [],
   "source": [
    "# bigdata = bigdata.drop(bigdata.loc[bigdata['genre'] == 2].index)\n",
    "# bigdata = bigdata.drop(bigdata.loc[bigdata['genre'] == 4].index)\n",
    "# bigdata = bigdata.drop(bigdata.loc[bigdata['genre'] == 8].index)\n",
    "# bigdata = bigdata.drop(bigdata.loc[bigdata['genre'] == 9].index)"
   ]
  },
  {
   "cell_type": "code",
   "execution_count": 8,
   "metadata": {},
   "outputs": [
    {
     "data": {
      "text/html": [
       "<div>\n",
       "<style>\n",
       "    .dataframe thead tr:only-child th {\n",
       "        text-align: right;\n",
       "    }\n",
       "\n",
       "    .dataframe thead th {\n",
       "        text-align: left;\n",
       "    }\n",
       "\n",
       "    .dataframe tbody tr th {\n",
       "        vertical-align: top;\n",
       "    }\n",
       "</style>\n",
       "<table border=\"1\" class=\"dataframe\">\n",
       "  <thead>\n",
       "    <tr style=\"text-align: right;\">\n",
       "      <th></th>\n",
       "      <th>level_0</th>\n",
       "      <th>Unnamed: 0</th>\n",
       "      <th>index</th>\n",
       "      <th>genre</th>\n",
       "      <th>bookId</th>\n",
       "      <th>entity.n.01</th>\n",
       "      <th>cheerfulness.n.01</th>\n",
       "      <th>eidos.n.01</th>\n",
       "      <th>ethos.n.01</th>\n",
       "      <th>inheritance.n.04</th>\n",
       "      <th>...</th>\n",
       "      <th>deodorant.n.01</th>\n",
       "      <th>hairdressing.n.01</th>\n",
       "      <th>lotion.n.01</th>\n",
       "      <th>perfume.n.02</th>\n",
       "      <th>weaponry.n.01</th>\n",
       "      <th>ammunition.n.01</th>\n",
       "      <th>armament.n.01</th>\n",
       "      <th>gunnery.n.01</th>\n",
       "      <th>hardware.n.01</th>\n",
       "      <th>totalWords</th>\n",
       "    </tr>\n",
       "  </thead>\n",
       "  <tbody>\n",
       "    <tr>\n",
       "      <th>0</th>\n",
       "      <td>0</td>\n",
       "      <td>0</td>\n",
       "      <td>0</td>\n",
       "      <td>1</td>\n",
       "      <td>14976</td>\n",
       "      <td>0.0</td>\n",
       "      <td>0.000000</td>\n",
       "      <td>0.0</td>\n",
       "      <td>0.0</td>\n",
       "      <td>0.000000</td>\n",
       "      <td>...</td>\n",
       "      <td>0.0</td>\n",
       "      <td>0.0</td>\n",
       "      <td>0.0</td>\n",
       "      <td>0.0</td>\n",
       "      <td>0.0</td>\n",
       "      <td>1.488439</td>\n",
       "      <td>0.0</td>\n",
       "      <td>0.0</td>\n",
       "      <td>0.0</td>\n",
       "      <td>24106</td>\n",
       "    </tr>\n",
       "    <tr>\n",
       "      <th>1</th>\n",
       "      <td>1</td>\n",
       "      <td>1</td>\n",
       "      <td>1</td>\n",
       "      <td>1</td>\n",
       "      <td>2750</td>\n",
       "      <td>0.0</td>\n",
       "      <td>0.000000</td>\n",
       "      <td>0.0</td>\n",
       "      <td>0.0</td>\n",
       "      <td>0.171278</td>\n",
       "      <td>...</td>\n",
       "      <td>0.0</td>\n",
       "      <td>0.0</td>\n",
       "      <td>0.0</td>\n",
       "      <td>0.0</td>\n",
       "      <td>0.0</td>\n",
       "      <td>0.000000</td>\n",
       "      <td>0.0</td>\n",
       "      <td>0.0</td>\n",
       "      <td>0.0</td>\n",
       "      <td>44801</td>\n",
       "    </tr>\n",
       "    <tr>\n",
       "      <th>2</th>\n",
       "      <td>2</td>\n",
       "      <td>2</td>\n",
       "      <td>2</td>\n",
       "      <td>1</td>\n",
       "      <td>2754</td>\n",
       "      <td>0.0</td>\n",
       "      <td>0.000000</td>\n",
       "      <td>0.0</td>\n",
       "      <td>0.0</td>\n",
       "      <td>0.188879</td>\n",
       "      <td>...</td>\n",
       "      <td>0.0</td>\n",
       "      <td>0.0</td>\n",
       "      <td>0.0</td>\n",
       "      <td>0.0</td>\n",
       "      <td>0.0</td>\n",
       "      <td>0.000000</td>\n",
       "      <td>0.0</td>\n",
       "      <td>0.0</td>\n",
       "      <td>0.0</td>\n",
       "      <td>20313</td>\n",
       "    </tr>\n",
       "    <tr>\n",
       "      <th>3</th>\n",
       "      <td>3</td>\n",
       "      <td>3</td>\n",
       "      <td>3</td>\n",
       "      <td>1</td>\n",
       "      <td>2747</td>\n",
       "      <td>0.0</td>\n",
       "      <td>0.606649</td>\n",
       "      <td>0.0</td>\n",
       "      <td>0.0</td>\n",
       "      <td>0.000000</td>\n",
       "      <td>...</td>\n",
       "      <td>0.0</td>\n",
       "      <td>0.0</td>\n",
       "      <td>0.0</td>\n",
       "      <td>0.0</td>\n",
       "      <td>0.0</td>\n",
       "      <td>0.392177</td>\n",
       "      <td>0.0</td>\n",
       "      <td>0.0</td>\n",
       "      <td>0.0</td>\n",
       "      <td>18298</td>\n",
       "    </tr>\n",
       "    <tr>\n",
       "      <th>4</th>\n",
       "      <td>4</td>\n",
       "      <td>4</td>\n",
       "      <td>4</td>\n",
       "      <td>1</td>\n",
       "      <td>2749</td>\n",
       "      <td>0.0</td>\n",
       "      <td>0.000000</td>\n",
       "      <td>0.0</td>\n",
       "      <td>0.0</td>\n",
       "      <td>0.000000</td>\n",
       "      <td>...</td>\n",
       "      <td>0.0</td>\n",
       "      <td>0.0</td>\n",
       "      <td>0.0</td>\n",
       "      <td>0.0</td>\n",
       "      <td>0.0</td>\n",
       "      <td>0.000000</td>\n",
       "      <td>0.0</td>\n",
       "      <td>0.0</td>\n",
       "      <td>0.0</td>\n",
       "      <td>29215</td>\n",
       "    </tr>\n",
       "  </tbody>\n",
       "</table>\n",
       "<p>5 rows × 780 columns</p>\n",
       "</div>"
      ],
      "text/plain": [
       "   level_0  Unnamed: 0  index  genre  bookId  entity.n.01  cheerfulness.n.01  \\\n",
       "0        0           0      0      1   14976          0.0           0.000000   \n",
       "1        1           1      1      1    2750          0.0           0.000000   \n",
       "2        2           2      2      1    2754          0.0           0.000000   \n",
       "3        3           3      3      1    2747          0.0           0.606649   \n",
       "4        4           4      4      1    2749          0.0           0.000000   \n",
       "\n",
       "   eidos.n.01  ethos.n.01  inheritance.n.04     ...      deodorant.n.01  \\\n",
       "0         0.0         0.0          0.000000     ...                 0.0   \n",
       "1         0.0         0.0          0.171278     ...                 0.0   \n",
       "2         0.0         0.0          0.188879     ...                 0.0   \n",
       "3         0.0         0.0          0.000000     ...                 0.0   \n",
       "4         0.0         0.0          0.000000     ...                 0.0   \n",
       "\n",
       "   hairdressing.n.01  lotion.n.01  perfume.n.02  weaponry.n.01  \\\n",
       "0                0.0          0.0           0.0            0.0   \n",
       "1                0.0          0.0           0.0            0.0   \n",
       "2                0.0          0.0           0.0            0.0   \n",
       "3                0.0          0.0           0.0            0.0   \n",
       "4                0.0          0.0           0.0            0.0   \n",
       "\n",
       "   ammunition.n.01  armament.n.01  gunnery.n.01  hardware.n.01  totalWords  \n",
       "0         1.488439            0.0           0.0            0.0       24106  \n",
       "1         0.000000            0.0           0.0            0.0       44801  \n",
       "2         0.000000            0.0           0.0            0.0       20313  \n",
       "3         0.392177            0.0           0.0            0.0       18298  \n",
       "4         0.000000            0.0           0.0            0.0       29215  \n",
       "\n",
       "[5 rows x 780 columns]"
      ]
     },
     "execution_count": 8,
     "metadata": {},
     "output_type": "execute_result"
    }
   ],
   "source": [
    "bigdata.reset_index().head()"
   ]
  },
  {
   "cell_type": "code",
   "execution_count": 9,
   "metadata": {
    "collapsed": true
   },
   "outputs": [],
   "source": [
    "msk = np.random.rand(len(bigdata)) < 0.8\n",
    "train = bigdata[msk]\n",
    "test = bigdata[~msk]"
   ]
  },
  {
   "cell_type": "code",
   "execution_count": 10,
   "metadata": {},
   "outputs": [
    {
     "data": {
      "text/plain": [
       "(1065, 779)"
      ]
     },
     "execution_count": 10,
     "metadata": {},
     "output_type": "execute_result"
    }
   ],
   "source": [
    "train.shape\n",
    "test.shape"
   ]
  },
  {
   "cell_type": "code",
   "execution_count": 11,
   "metadata": {
    "collapsed": true
   },
   "outputs": [],
   "source": [
    "temp = bigdata"
   ]
  },
  {
   "cell_type": "code",
   "execution_count": 12,
   "metadata": {
    "collapsed": true
   },
   "outputs": [],
   "source": [
    "genre = temp['genre']"
   ]
  },
  {
   "cell_type": "code",
   "execution_count": 13,
   "metadata": {
    "collapsed": true
   },
   "outputs": [],
   "source": [
    "del temp['genre']\n",
    "del temp['Unnamed: 0']\n",
    "del temp['index']\n",
    "del temp['bookId']\n",
    "del temp['totalWords']"
   ]
  },
  {
   "cell_type": "code",
   "execution_count": 14,
   "metadata": {
    "collapsed": true
   },
   "outputs": [],
   "source": [
    "Words = temp.values\n",
    "# Words"
   ]
  },
  {
   "cell_type": "code",
   "execution_count": 15,
   "metadata": {},
   "outputs": [
    {
     "data": {
      "text/plain": [
       "PCA(copy=True, iterated_power='auto', n_components=200, random_state=None,\n",
       "  svd_solver='auto', tol=0.0, whiten=False)"
      ]
     },
     "execution_count": 15,
     "metadata": {},
     "output_type": "execute_result"
    }
   ],
   "source": [
    "pca = PCA(n_components=200)\n",
    "ModelPca = pca.fit(Words)\n",
    "pca"
   ]
  },
  {
   "cell_type": "code",
   "execution_count": 16,
   "metadata": {
    "collapsed": true
   },
   "outputs": [],
   "source": [
    "# print pca.explained_variance_ratio_.sum()"
   ]
  },
  {
   "cell_type": "code",
   "execution_count": 17,
   "metadata": {},
   "outputs": [
    {
     "data": {
      "text/html": [
       "<div>\n",
       "<style>\n",
       "    .dataframe thead tr:only-child th {\n",
       "        text-align: right;\n",
       "    }\n",
       "\n",
       "    .dataframe thead th {\n",
       "        text-align: left;\n",
       "    }\n",
       "\n",
       "    .dataframe tbody tr th {\n",
       "        vertical-align: top;\n",
       "    }\n",
       "</style>\n",
       "<table border=\"1\" class=\"dataframe\">\n",
       "  <thead>\n",
       "    <tr style=\"text-align: right;\">\n",
       "      <th></th>\n",
       "      <th>pc1</th>\n",
       "      <th>pc2</th>\n",
       "      <th>pc3</th>\n",
       "      <th>pc4</th>\n",
       "      <th>pc5</th>\n",
       "      <th>pc6</th>\n",
       "      <th>pc7</th>\n",
       "      <th>pc8</th>\n",
       "      <th>pc9</th>\n",
       "      <th>pc10</th>\n",
       "      <th>...</th>\n",
       "      <th>pc191</th>\n",
       "      <th>pc192</th>\n",
       "      <th>pc193</th>\n",
       "      <th>pc194</th>\n",
       "      <th>pc195</th>\n",
       "      <th>pc196</th>\n",
       "      <th>pc197</th>\n",
       "      <th>pc198</th>\n",
       "      <th>pc199</th>\n",
       "      <th>pc200</th>\n",
       "    </tr>\n",
       "  </thead>\n",
       "  <tbody>\n",
       "    <tr>\n",
       "      <th>0</th>\n",
       "      <td>0.0</td>\n",
       "      <td>0.000000</td>\n",
       "      <td>0.0</td>\n",
       "      <td>0.0</td>\n",
       "      <td>0.000000</td>\n",
       "      <td>0.539379</td>\n",
       "      <td>5.596673</td>\n",
       "      <td>2.739262</td>\n",
       "      <td>0.986586</td>\n",
       "      <td>0.094257</td>\n",
       "      <td>...</td>\n",
       "      <td>16.709685</td>\n",
       "      <td>0.0</td>\n",
       "      <td>0.0</td>\n",
       "      <td>0.535027</td>\n",
       "      <td>0.000000</td>\n",
       "      <td>0.0</td>\n",
       "      <td>0.0</td>\n",
       "      <td>0.0</td>\n",
       "      <td>0.0</td>\n",
       "      <td>0.0</td>\n",
       "    </tr>\n",
       "    <tr>\n",
       "      <th>1</th>\n",
       "      <td>0.0</td>\n",
       "      <td>0.000000</td>\n",
       "      <td>0.0</td>\n",
       "      <td>0.0</td>\n",
       "      <td>0.171278</td>\n",
       "      <td>0.096741</td>\n",
       "      <td>7.928731</td>\n",
       "      <td>6.593808</td>\n",
       "      <td>0.694189</td>\n",
       "      <td>0.101434</td>\n",
       "      <td>...</td>\n",
       "      <td>18.095715</td>\n",
       "      <td>0.0</td>\n",
       "      <td>0.0</td>\n",
       "      <td>0.000000</td>\n",
       "      <td>0.233771</td>\n",
       "      <td>0.0</td>\n",
       "      <td>0.0</td>\n",
       "      <td>0.0</td>\n",
       "      <td>0.0</td>\n",
       "      <td>0.0</td>\n",
       "    </tr>\n",
       "    <tr>\n",
       "      <th>2</th>\n",
       "      <td>0.0</td>\n",
       "      <td>0.000000</td>\n",
       "      <td>0.0</td>\n",
       "      <td>0.0</td>\n",
       "      <td>0.188879</td>\n",
       "      <td>0.000000</td>\n",
       "      <td>6.053220</td>\n",
       "      <td>4.448405</td>\n",
       "      <td>0.180124</td>\n",
       "      <td>0.000000</td>\n",
       "      <td>...</td>\n",
       "      <td>7.279311</td>\n",
       "      <td>0.0</td>\n",
       "      <td>0.0</td>\n",
       "      <td>0.000000</td>\n",
       "      <td>0.000000</td>\n",
       "      <td>0.0</td>\n",
       "      <td>0.0</td>\n",
       "      <td>0.0</td>\n",
       "      <td>0.0</td>\n",
       "      <td>0.0</td>\n",
       "    </tr>\n",
       "    <tr>\n",
       "      <th>3</th>\n",
       "      <td>0.0</td>\n",
       "      <td>0.606649</td>\n",
       "      <td>0.0</td>\n",
       "      <td>0.0</td>\n",
       "      <td>0.000000</td>\n",
       "      <td>0.000000</td>\n",
       "      <td>8.026438</td>\n",
       "      <td>4.083569</td>\n",
       "      <td>1.399720</td>\n",
       "      <td>0.372527</td>\n",
       "      <td>...</td>\n",
       "      <td>5.480163</td>\n",
       "      <td>0.0</td>\n",
       "      <td>0.0</td>\n",
       "      <td>0.000000</td>\n",
       "      <td>0.572367</td>\n",
       "      <td>0.0</td>\n",
       "      <td>0.0</td>\n",
       "      <td>0.0</td>\n",
       "      <td>0.0</td>\n",
       "      <td>0.0</td>\n",
       "    </tr>\n",
       "    <tr>\n",
       "      <th>4</th>\n",
       "      <td>0.0</td>\n",
       "      <td>0.000000</td>\n",
       "      <td>0.0</td>\n",
       "      <td>0.0</td>\n",
       "      <td>0.000000</td>\n",
       "      <td>0.148352</td>\n",
       "      <td>6.663877</td>\n",
       "      <td>7.197050</td>\n",
       "      <td>0.688816</td>\n",
       "      <td>0.155548</td>\n",
       "      <td>...</td>\n",
       "      <td>4.421328</td>\n",
       "      <td>0.0</td>\n",
       "      <td>0.0</td>\n",
       "      <td>0.000000</td>\n",
       "      <td>0.716972</td>\n",
       "      <td>0.0</td>\n",
       "      <td>0.0</td>\n",
       "      <td>0.0</td>\n",
       "      <td>0.0</td>\n",
       "      <td>0.0</td>\n",
       "    </tr>\n",
       "  </tbody>\n",
       "</table>\n",
       "<p>5 rows × 200 columns</p>\n",
       "</div>"
      ],
      "text/plain": [
       "   pc1       pc2  pc3  pc4       pc5       pc6       pc7       pc8       pc9  \\\n",
       "0  0.0  0.000000  0.0  0.0  0.000000  0.539379  5.596673  2.739262  0.986586   \n",
       "1  0.0  0.000000  0.0  0.0  0.171278  0.096741  7.928731  6.593808  0.694189   \n",
       "2  0.0  0.000000  0.0  0.0  0.188879  0.000000  6.053220  4.448405  0.180124   \n",
       "3  0.0  0.606649  0.0  0.0  0.000000  0.000000  8.026438  4.083569  1.399720   \n",
       "4  0.0  0.000000  0.0  0.0  0.000000  0.148352  6.663877  7.197050  0.688816   \n",
       "\n",
       "       pc10  ...        pc191  pc192  pc193     pc194     pc195  pc196  pc197  \\\n",
       "0  0.094257  ...    16.709685    0.0    0.0  0.535027  0.000000    0.0    0.0   \n",
       "1  0.101434  ...    18.095715    0.0    0.0  0.000000  0.233771    0.0    0.0   \n",
       "2  0.000000  ...     7.279311    0.0    0.0  0.000000  0.000000    0.0    0.0   \n",
       "3  0.372527  ...     5.480163    0.0    0.0  0.000000  0.572367    0.0    0.0   \n",
       "4  0.155548  ...     4.421328    0.0    0.0  0.000000  0.716972    0.0    0.0   \n",
       "\n",
       "   pc198  pc199  pc200  \n",
       "0    0.0    0.0    0.0  \n",
       "1    0.0    0.0    0.0  \n",
       "2    0.0    0.0    0.0  \n",
       "3    0.0    0.0    0.0  \n",
       "4    0.0    0.0    0.0  \n",
       "\n",
       "[5 rows x 200 columns]"
      ]
     },
     "execution_count": 17,
     "metadata": {},
     "output_type": "execute_result"
    }
   ],
   "source": [
    "df=pd.DataFrame()\n",
    "for i in range(pca.explained_variance_ratio_.shape[0]):\n",
    "    df[\"pc%i\" % (i+1)] = Words[:,i]\n",
    "df.head()"
   ]
  },
  {
   "cell_type": "code",
   "execution_count": 18,
   "metadata": {},
   "outputs": [
    {
     "data": {
      "text/plain": [
       "(5040, 200)"
      ]
     },
     "execution_count": 18,
     "metadata": {},
     "output_type": "execute_result"
    }
   ],
   "source": [
    "df.shape"
   ]
  },
  {
   "cell_type": "code",
   "execution_count": 19,
   "metadata": {
    "collapsed": true
   },
   "outputs": [],
   "source": [
    "random.seed()"
   ]
  },
  {
   "cell_type": "code",
   "execution_count": 20,
   "metadata": {
    "scrolled": true
   },
   "outputs": [],
   "source": [
    "df['genre'] = genre\n",
    "df = df.reindex(np.random.permutation(df.index))"
   ]
  },
  {
   "cell_type": "code",
   "execution_count": 21,
   "metadata": {
    "collapsed": true
   },
   "outputs": [],
   "source": [
    "genre = df['genre']\n",
    "del df['genre']"
   ]
  },
  {
   "cell_type": "code",
   "execution_count": 22,
   "metadata": {
    "collapsed": true
   },
   "outputs": [],
   "source": [
    "X_train, X_test, y_train, y_test = train_test_split(df, genre, test_size=0.20, random_state=42)"
   ]
  },
  {
   "cell_type": "code",
   "execution_count": 23,
   "metadata": {},
   "outputs": [
    {
     "data": {
      "text/plain": [
       "(4032, 200)"
      ]
     },
     "execution_count": 23,
     "metadata": {},
     "output_type": "execute_result"
    }
   ],
   "source": [
    "X_train.shape"
   ]
  },
  {
   "cell_type": "code",
   "execution_count": null,
   "metadata": {},
   "outputs": [],
   "source": [
    "rf =AdaBoostClassifier(DecisionTreeClassifier(max_depth=6),\n",
    "                         algorithm=\"SAMME\",\n",
    "                         n_estimators=2000)\n",
    "rf.fit(X_train, y_train)"
   ]
  },
  {
   "cell_type": "code",
   "execution_count": null,
   "metadata": {},
   "outputs": [],
   "source": [
    "pre=rf.predict(X_test)\n",
    "accuracy_score(y_test, pre)"
   ]
  },
  {
   "cell_type": "code",
   "execution_count": null,
   "metadata": {},
   "outputs": [],
   "source": [
    "pre=rf.predict(X_train)\n",
    "accuracy_score(y_train, pre)"
   ]
  },
  {
   "cell_type": "code",
   "execution_count": null,
   "metadata": {
    "collapsed": true
   },
   "outputs": [],
   "source": [
    "def getValue(df,genre):\n",
    "    X_train, X_test, y_train, y_test = train_test_split(df, genre, test_size=0.20, random_state=42)\n",
    "    rf =AdaBoostClassifier(DecisionTreeClassifier(max_depth=3),\n",
    "                             algorithm=\"SAMME\",\n",
    "                             n_estimators=2000)\n",
    "    rf.fit(X_train, y_train)\n",
    "    pre=rf.predict(X_test)\n",
    "    temp = {}\n",
    "    temp['data'] = accuracy_score(y_test, pre)\n",
    "    temp['test'] = True\n",
    "    temp['Total Count'] = len(genre)\n",
    "    result.append(temp)\n",
    "    \n",
    "    temp={}\n",
    "    pre=rf.predict(X_train)\n",
    "    temp['data'] = accuracy_score(y_train, pre)\n",
    "    temp['test'] = False\n",
    "    temp['Total Count'] = len(genre)\n",
    "    print (temp)\n",
    "    result.append(temp)"
   ]
  },
  {
   "cell_type": "code",
   "execution_count": null,
   "metadata": {
    "collapsed": true
   },
   "outputs": [],
   "source": [
    "result = []"
   ]
  },
  {
   "cell_type": "code",
   "execution_count": null,
   "metadata": {},
   "outputs": [],
   "source": [
    "for i in range(1,20):\n",
    "    getValue(df[:i*150],genre[:i*150])\n",
    "getValue(df,genre)"
   ]
  },
  {
   "cell_type": "code",
   "execution_count": null,
   "metadata": {},
   "outputs": [],
   "source": [
    "result"
   ]
  },
  {
   "cell_type": "code",
   "execution_count": null,
   "metadata": {
    "collapsed": true
   },
   "outputs": [],
   "source": [
    "import seaborn as sns"
   ]
  },
  {
   "cell_type": "code",
   "execution_count": null,
   "metadata": {
    "collapsed": true
   },
   "outputs": [],
   "source": [
    "tips = pd.DataFrame(result)"
   ]
  },
  {
   "cell_type": "code",
   "execution_count": null,
   "metadata": {
    "collapsed": true,
    "scrolled": true
   },
   "outputs": [],
   "source": [
    "tips['Total_Count'] = tips['Total Count']"
   ]
  },
  {
   "cell_type": "code",
   "execution_count": null,
   "metadata": {
    "scrolled": true
   },
   "outputs": [],
   "source": [
    "sns.set_style(\"darkgrid\")\n",
    "tips = sns.load_dataset(\"tips\")\n",
    "tips"
   ]
  },
  {
   "cell_type": "code",
   "execution_count": null,
   "metadata": {},
   "outputs": [],
   "source": [
    "plt.subplots_adjust(top=0.9)\n",
    "sns.plt.suptitle('lalala')\n",
    "g = sns.pointplot(x=\"Total_Count\", y=\"data\",hue=\"test\", markers=[\"o\", \"x\"],linestyles=[\"-\", \"--\"], data=tips)"
   ]
  },
  {
   "cell_type": "code",
   "execution_count": null,
   "metadata": {
    "collapsed": true
   },
   "outputs": [],
   "source": [
    "plt.subplots_adjust(top=0.9)\n",
    "sns.plt.suptitle('lalala')"
   ]
  },
  {
   "cell_type": "code",
   "execution_count": null,
   "metadata": {
    "collapsed": true
   },
   "outputs": [],
   "source": []
  }
 ],
 "metadata": {
  "kernelspec": {
   "display_name": "Python 3",
   "language": "python",
   "name": "python3"
  },
  "language_info": {
   "codemirror_mode": {
    "name": "ipython",
    "version": 3
   },
   "file_extension": ".py",
   "mimetype": "text/x-python",
   "name": "python",
   "nbconvert_exporter": "python",
   "pygments_lexer": "ipython3",
   "version": "3.5.2"
  }
 },
 "nbformat": 4,
 "nbformat_minor": 1
}
