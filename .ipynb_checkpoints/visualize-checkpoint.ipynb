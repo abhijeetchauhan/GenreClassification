{
 "cells": [
  {
   "cell_type": "markdown",
   "metadata": {},
   "source": [
    "# To visualize data"
   ]
  },
  {
   "cell_type": "code",
   "execution_count": 146,
   "metadata": {
    "collapsed": true
   },
   "outputs": [],
   "source": [
    "# To avoid warnings printed during the execution\n",
    "import warnings\n",
    "warnings.simplefilter('ignore')"
   ]
  },
  {
   "cell_type": "code",
   "execution_count": 147,
   "metadata": {
    "collapsed": true
   },
   "outputs": [],
   "source": [
    "import warnings\n",
    "warnings.filterwarnings(\"ignore\", category = UserWarning, module = \"matplotlib\")\n",
    "#\n",
    "# Display inline matplotlib plots with IPython\n",
    "from IPython import get_ipython\n",
    "get_ipython().run_line_magic('matplotlib', 'inline')"
   ]
  },
  {
   "cell_type": "code",
   "execution_count": 148,
   "metadata": {
    "collapsed": true
   },
   "outputs": [],
   "source": [
    "import matplotlib.pyplot as pl\n",
    "import numpy as np\n",
    "import sklearn.learning_curve as curves\n",
    "from sklearn.tree import DecisionTreeRegressor\n",
    "from sklearn.cross_validation import ShuffleSplit, train_test_split\n",
    "import pandas as pd\n",
    "import numpy as np\n",
    "from sklearn.decomposition import PCA\n",
    "from sklearn.cross_validation import train_test_split\n",
    "from sklearn.tree import DecisionTreeClassifier\n",
    "from sklearn.metrics import accuracy_score\n",
    "import random\n",
    "from sklearn.ensemble import AdaBoostClassifier\n",
    "from matplotlib.legend_handler import HandlerLine2D"
   ]
  },
  {
   "cell_type": "code",
   "execution_count": 149,
   "metadata": {
    "collapsed": true
   },
   "outputs": [],
   "source": [
    "bigdata = pd.read_csv('bigdata(tf-idf).csv')"
   ]
  },
  {
   "cell_type": "code",
   "execution_count": 150,
   "metadata": {
    "collapsed": true
   },
   "outputs": [],
   "source": [
    "genre = bigdata['genre']"
   ]
  },
  {
   "cell_type": "code",
   "execution_count": 151,
   "metadata": {
    "collapsed": true
   },
   "outputs": [],
   "source": [
    "del bigdata['genre']\n",
    "del bigdata['Unnamed: 0']\n",
    "del bigdata['index']\n",
    "del bigdata['bookId']\n",
    "del bigdata['totalWords']"
   ]
  },
  {
   "cell_type": "code",
   "execution_count": 152,
   "metadata": {
    "collapsed": true
   },
   "outputs": [],
   "source": [
    "Words = bigdata.values"
   ]
  },
  {
   "cell_type": "code",
   "execution_count": 153,
   "metadata": {
    "collapsed": true
   },
   "outputs": [],
   "source": [
    "pca = PCA(n_components=200)\n",
    "ModelPca = pca.fit(Words)"
   ]
  },
  {
   "cell_type": "code",
   "execution_count": 154,
   "metadata": {
    "collapsed": true
   },
   "outputs": [],
   "source": [
    "df=pd.DataFrame()\n",
    "for i in range(pca.explained_variance_ratio_.shape[0]):\n",
    "    df[\"pc%i\" % (i+1)] = Words[:,i]\n",
    "#df.head()"
   ]
  },
  {
   "cell_type": "code",
   "execution_count": 155,
   "metadata": {
    "collapsed": true
   },
   "outputs": [],
   "source": [
    "df['genre'] = genre\n",
    "df = df.reindex(np.random.permutation(df.index))"
   ]
  },
  {
   "cell_type": "code",
   "execution_count": 156,
   "metadata": {},
   "outputs": [],
   "source": [
    "genre = df['genre']\n",
    "del df['genre']"
   ]
  },
  {
   "cell_type": "code",
   "execution_count": 163,
   "metadata": {},
   "outputs": [],
   "source": [
    "X = df\n",
    "y = genre\n",
    "\n",
    "k, depth = 3 , 3\n",
    "\n",
    "# Create 10 cross-validation sets for training and testing\n",
    "cv = ShuffleSplit(X.shape[0], n_iter = 10, test_size = 0.2, random_state = 0)\n",
    "\n",
    "# Generate the training set sizes increasing by 50\n",
    "train_sizes = np.rint(np.linspace(1, X.shape[0]*0.8 - 1, 9)).astype(int)\n",
    "\n",
    "# Create a Decision tree regressor at max_depth = depth\n",
    "regressor = AdaBoostClassifier(DecisionTreeClassifier(max_depth=depth), algorithm=\"SAMME\", n_estimators=2000)\n",
    "#regressor = DecisionTreeRegressor(max_depth = depth)\n",
    "\n",
    "# Calculate the training and testing scores\n",
    "sizes, train_scores, test_scores = curves.learning_curve(regressor, X, y, \\\n",
    "    cv = cv, train_sizes = train_sizes, scoring = 'r2')\n",
    "\n",
    "# Find the mean and standard deviation for smoothing\n",
    "train_std = np.std(train_scores, axis = 1)\n",
    "train_mean = np.mean(train_scores, axis = 1)\n",
    "test_std = np.std(test_scores, axis = 1)\n",
    "test_mean = np.mean(test_scores, axis = 1)"
   ]
  },
  {
   "cell_type": "code",
   "execution_count": 164,
   "metadata": {},
   "outputs": [
    {
     "data": {
      "image/png": "[encoded data removed]",
      "text/plain": [
       "<matplotlib.figure.Figure at 0x7f8efeca2358>"
      ]
     },
     "metadata": {},
     "output_type": "display_data"
    }
   ],
   "source": [
    "# Create the figure window\n",
    "fig = pl.figure(figsize=(10, 7))\n",
    "\n",
    "# Subplot the learning curve \n",
    "ax = fig.add_subplot(2, 2, k+1)\n",
    "ax.plot(sizes, train_mean, 'o-', color = 'r', label = 'Training Score')\n",
    "ax.plot(sizes, test_mean, 'o-', color = 'g', label = 'Testing Score')\n",
    "ax.fill_between(sizes, train_mean - train_std, train_mean + train_std, alpha = 0.15, color = 'r')\n",
    "ax.fill_between(sizes, test_mean - test_std, test_mean + test_std, alpha = 0.15, color = 'g')\n",
    "\n",
    "# Labels\n",
    "ax.set_xlabel('Number of Training Points')\n",
    "ax.set_ylabel('Score')\n",
    "ax.set_xlim([0, X.shape[0]*0.8])\n",
    "ax.set_ylim([-0.05, 1.05])\n",
    "\n",
    "# Visual aesthetics\n",
    "ax.legend(bbox_to_anchor=(0.65, 0.25), borderaxespad = 0.1)\n",
    "fig.tight_layout()\n",
    "fig.show()"
   ]
  }
 ],
 "metadata": {
  "kernelspec": {
   "display_name": "Python 3",
   "language": "python",
   "name": "python3"
  },
  "language_info": {
   "codemirror_mode": {
    "name": "ipython",
    "version": 3
   },
   "file_extension": ".py",
   "mimetype": "text/x-python",
   "name": "python",
   "nbconvert_exporter": "python",
   "pygments_lexer": "ipython3",
   "version": "3.5.2"
  }
 },
 "nbformat": 4,
 "nbformat_minor": 2
}
